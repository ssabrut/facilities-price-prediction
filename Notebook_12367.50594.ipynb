{
 "cells": [
  {
   "cell_type": "code",
   "execution_count": 1,
   "id": "fe0d3442",
   "metadata": {},
   "outputs": [
    {
     "name": "stdout",
     "output_type": "stream",
     "text": [
      "Requirement already satisfied: pyswarms in c:\\users\\micha\\anaconda3\\lib\\site-packages (1.3.0)\n",
      "Requirement already satisfied: scipy in c:\\users\\micha\\anaconda3\\lib\\site-packages (from pyswarms) (1.7.3)\n",
      "Requirement already satisfied: tqdm in c:\\users\\micha\\anaconda3\\lib\\site-packages (from pyswarms) (4.64.0)\n",
      "Requirement already satisfied: matplotlib>=1.3.1 in c:\\users\\micha\\anaconda3\\lib\\site-packages (from pyswarms) (3.5.1)\n",
      "Requirement already satisfied: future in c:\\users\\micha\\anaconda3\\lib\\site-packages (from pyswarms) (0.18.2)\n",
      "Requirement already satisfied: pyyaml in c:\\users\\micha\\anaconda3\\lib\\site-packages (from pyswarms) (6.0)\n",
      "Requirement already satisfied: attrs in c:\\users\\micha\\anaconda3\\lib\\site-packages (from pyswarms) (21.4.0)\n",
      "Requirement already satisfied: numpy in c:\\users\\micha\\anaconda3\\lib\\site-packages (from pyswarms) (1.22.4)\n",
      "Requirement already satisfied: packaging>=20.0 in c:\\users\\micha\\anaconda3\\lib\\site-packages (from matplotlib>=1.3.1->pyswarms) (21.3)\n",
      "Requirement already satisfied: fonttools>=4.22.0 in c:\\users\\micha\\anaconda3\\lib\\site-packages (from matplotlib>=1.3.1->pyswarms) (4.25.0)\n",
      "Requirement already satisfied: cycler>=0.10 in c:\\users\\micha\\anaconda3\\lib\\site-packages (from matplotlib>=1.3.1->pyswarms) (0.10.0)\n",
      "Requirement already satisfied: kiwisolver>=1.0.1 in c:\\users\\micha\\anaconda3\\lib\\site-packages (from matplotlib>=1.3.1->pyswarms) (1.3.2)\n",
      "Requirement already satisfied: pillow>=6.2.0 in c:\\users\\micha\\anaconda3\\lib\\site-packages (from matplotlib>=1.3.1->pyswarms) (9.0.1)\n",
      "Requirement already satisfied: python-dateutil>=2.7 in c:\\users\\micha\\anaconda3\\lib\\site-packages (from matplotlib>=1.3.1->pyswarms) (2.8.2)\n",
      "Requirement already satisfied: pyparsing>=2.2.1 in c:\\users\\micha\\anaconda3\\lib\\site-packages (from matplotlib>=1.3.1->pyswarms) (2.4.7)\n",
      "Requirement already satisfied: colorama in c:\\users\\micha\\appdata\\roaming\\python\\python39\\site-packages (from tqdm->pyswarms) (0.4.4)\n",
      "Requirement already satisfied: six in c:\\users\\micha\\appdata\\roaming\\python\\python39\\site-packages (from cycler>=0.10->matplotlib>=1.3.1->pyswarms) (1.15.0)\n"
     ]
    },
    {
     "name": "stderr",
     "output_type": "stream",
     "text": [
      "\n",
      "[notice] A new release of pip available: 22.3.1 -> 23.1.2\n",
      "[notice] To update, run: python.exe -m pip install --upgrade pip\n"
     ]
    }
   ],
   "source": [
    "# !pip install xgboost\n",
    "# !pip install lightgbm\n",
    "# !pip install lazypredict\n",
    "!pip install pyswarms"
   ]
  },
  {
   "cell_type": "code",
   "execution_count": 2,
   "id": "de4cba92",
   "metadata": {},
   "outputs": [
    {
     "data": {
      "text/html": [
       "<div>\n",
       "<style scoped>\n",
       "    .dataframe tbody tr th:only-of-type {\n",
       "        vertical-align: middle;\n",
       "    }\n",
       "\n",
       "    .dataframe tbody tr th {\n",
       "        vertical-align: top;\n",
       "    }\n",
       "\n",
       "    .dataframe thead th {\n",
       "        text-align: right;\n",
       "    }\n",
       "</style>\n",
       "<table border=\"1\" class=\"dataframe\">\n",
       "  <thead>\n",
       "    <tr style=\"text-align: right;\">\n",
       "      <th></th>\n",
       "      <th>facilities</th>\n",
       "      <th>rating</th>\n",
       "      <th>location</th>\n",
       "    </tr>\n",
       "  </thead>\n",
       "  <tbody>\n",
       "    <tr>\n",
       "      <th>0</th>\n",
       "      <td>RestaurantBARSwimmingPools</td>\n",
       "      <td>7.8 Very GoodFrom 10 reviews</td>\n",
       "      <td>Stokol</td>\n",
       "    </tr>\n",
       "    <tr>\n",
       "      <th>1</th>\n",
       "      <td>intrnetRestaurantgym</td>\n",
       "      <td>5.6 GoodFrom 4 reviews</td>\n",
       "      <td>Machlessvile</td>\n",
       "    </tr>\n",
       "    <tr>\n",
       "      <th>2</th>\n",
       "      <td>restaurantgympoolBar</td>\n",
       "      <td>7.2 Very GoodFrom 38 reviews</td>\n",
       "      <td>Wanderland</td>\n",
       "    </tr>\n",
       "    <tr>\n",
       "      <th>3</th>\n",
       "      <td>BARRestaurant</td>\n",
       "      <td>7.3 Very GoodFrom 6 reviews</td>\n",
       "      <td>Uberlandia</td>\n",
       "    </tr>\n",
       "    <tr>\n",
       "      <th>4</th>\n",
       "      <td>InternetRestaurant</td>\n",
       "      <td>7.2 Very GoodFrom 30 reviews</td>\n",
       "      <td>Stokol</td>\n",
       "    </tr>\n",
       "  </tbody>\n",
       "</table>\n",
       "</div>"
      ],
      "text/plain": [
       "                   facilities                        rating      location\n",
       "0  RestaurantBARSwimmingPools  7.8 Very GoodFrom 10 reviews        Stokol\n",
       "1        intrnetRestaurantgym        5.6 GoodFrom 4 reviews  Machlessvile\n",
       "2        restaurantgympoolBar  7.2 Very GoodFrom 38 reviews    Wanderland\n",
       "3               BARRestaurant   7.3 Very GoodFrom 6 reviews    Uberlandia\n",
       "4          InternetRestaurant  7.2 Very GoodFrom 30 reviews        Stokol"
      ]
     },
     "execution_count": 2,
     "metadata": {},
     "output_type": "execute_result"
    }
   ],
   "source": [
    "import pandas as pd\n",
    "import numpy as np\n",
    "pd.set_option('display.max_rows', None)\n",
    "pd.set_option('display.max_columns', None)\n",
    "\n",
    "train_features = pd.read_csv('train_features.csv')\n",
    "train_features.head()"
   ]
  },
  {
   "cell_type": "code",
   "execution_count": 3,
   "id": "fb5ff711",
   "metadata": {},
   "outputs": [
    {
     "name": "stdout",
     "output_type": "stream",
     "text": [
      "Train feature dataframe shape: (3066, 3)\n"
     ]
    }
   ],
   "source": [
    "print('Train feature dataframe shape:', train_features.shape)"
   ]
  },
  {
   "cell_type": "code",
   "execution_count": 4,
   "id": "c54ee0d2",
   "metadata": {},
   "outputs": [
    {
     "data": {
      "text/html": [
       "<div>\n",
       "<style scoped>\n",
       "    .dataframe tbody tr th:only-of-type {\n",
       "        vertical-align: middle;\n",
       "    }\n",
       "\n",
       "    .dataframe tbody tr th {\n",
       "        vertical-align: top;\n",
       "    }\n",
       "\n",
       "    .dataframe thead th {\n",
       "        text-align: right;\n",
       "    }\n",
       "</style>\n",
       "<table border=\"1\" class=\"dataframe\">\n",
       "  <thead>\n",
       "    <tr style=\"text-align: right;\">\n",
       "      <th></th>\n",
       "      <th>ID</th>\n",
       "      <th>facilities</th>\n",
       "      <th>rating</th>\n",
       "      <th>location</th>\n",
       "    </tr>\n",
       "  </thead>\n",
       "  <tbody>\n",
       "    <tr>\n",
       "      <th>0</th>\n",
       "      <td>0</td>\n",
       "      <td>GymrestaurantbarInternetSwimmingPools</td>\n",
       "      <td>8.0 ExcellentFrom 1 reviews</td>\n",
       "      <td>Stokol</td>\n",
       "    </tr>\n",
       "    <tr>\n",
       "      <th>1</th>\n",
       "      <td>1</td>\n",
       "      <td>Poolrestaurantgyminternetbar</td>\n",
       "      <td>7.4 Very GoodFrom 22 reviews</td>\n",
       "      <td>Hallerson</td>\n",
       "    </tr>\n",
       "    <tr>\n",
       "      <th>2</th>\n",
       "      <td>2</td>\n",
       "      <td>BARSwimmingPoolsInternetgym</td>\n",
       "      <td>0.0 FairFrom 4 reviews</td>\n",
       "      <td>Hallerson</td>\n",
       "    </tr>\n",
       "    <tr>\n",
       "      <th>3</th>\n",
       "      <td>3</td>\n",
       "      <td>gymSwimmingPoolsBARintrnetRestaurant</td>\n",
       "      <td>6.8 Very GoodFrom 13 reviews</td>\n",
       "      <td>Andeman</td>\n",
       "    </tr>\n",
       "    <tr>\n",
       "      <th>4</th>\n",
       "      <td>4</td>\n",
       "      <td>gymRestaurantpoolbarintrnet</td>\n",
       "      <td>0.0 FairFrom 9 reviews</td>\n",
       "      <td>Hallerson</td>\n",
       "    </tr>\n",
       "  </tbody>\n",
       "</table>\n",
       "</div>"
      ],
      "text/plain": [
       "   ID                             facilities                        rating  \\\n",
       "0   0  GymrestaurantbarInternetSwimmingPools   8.0 ExcellentFrom 1 reviews   \n",
       "1   1           Poolrestaurantgyminternetbar  7.4 Very GoodFrom 22 reviews   \n",
       "2   2            BARSwimmingPoolsInternetgym        0.0 FairFrom 4 reviews   \n",
       "3   3   gymSwimmingPoolsBARintrnetRestaurant  6.8 Very GoodFrom 13 reviews   \n",
       "4   4            gymRestaurantpoolbarintrnet        0.0 FairFrom 9 reviews   \n",
       "\n",
       "    location  \n",
       "0     Stokol  \n",
       "1  Hallerson  \n",
       "2  Hallerson  \n",
       "3    Andeman  \n",
       "4  Hallerson  "
      ]
     },
     "execution_count": 4,
     "metadata": {},
     "output_type": "execute_result"
    }
   ],
   "source": [
    "test_features = pd.read_csv('test_feature.csv')\n",
    "test_features.head()"
   ]
  },
  {
   "cell_type": "code",
   "execution_count": 5,
   "id": "06344f2c",
   "metadata": {},
   "outputs": [
    {
     "data": {
      "text/html": [
       "<div>\n",
       "<style scoped>\n",
       "    .dataframe tbody tr th:only-of-type {\n",
       "        vertical-align: middle;\n",
       "    }\n",
       "\n",
       "    .dataframe tbody tr th {\n",
       "        vertical-align: top;\n",
       "    }\n",
       "\n",
       "    .dataframe thead th {\n",
       "        text-align: right;\n",
       "    }\n",
       "</style>\n",
       "<table border=\"1\" class=\"dataframe\">\n",
       "  <thead>\n",
       "    <tr style=\"text-align: right;\">\n",
       "      <th></th>\n",
       "      <th>facilities</th>\n",
       "      <th>rating</th>\n",
       "      <th>location</th>\n",
       "    </tr>\n",
       "  </thead>\n",
       "  <tbody>\n",
       "    <tr>\n",
       "      <th>0</th>\n",
       "      <td>GymrestaurantbarInternetSwimmingPools</td>\n",
       "      <td>8.0 ExcellentFrom 1 reviews</td>\n",
       "      <td>Stokol</td>\n",
       "    </tr>\n",
       "    <tr>\n",
       "      <th>1</th>\n",
       "      <td>Poolrestaurantgyminternetbar</td>\n",
       "      <td>7.4 Very GoodFrom 22 reviews</td>\n",
       "      <td>Hallerson</td>\n",
       "    </tr>\n",
       "    <tr>\n",
       "      <th>2</th>\n",
       "      <td>BARSwimmingPoolsInternetgym</td>\n",
       "      <td>0.0 FairFrom 4 reviews</td>\n",
       "      <td>Hallerson</td>\n",
       "    </tr>\n",
       "    <tr>\n",
       "      <th>3</th>\n",
       "      <td>gymSwimmingPoolsBARintrnetRestaurant</td>\n",
       "      <td>6.8 Very GoodFrom 13 reviews</td>\n",
       "      <td>Andeman</td>\n",
       "    </tr>\n",
       "    <tr>\n",
       "      <th>4</th>\n",
       "      <td>gymRestaurantpoolbarintrnet</td>\n",
       "      <td>0.0 FairFrom 9 reviews</td>\n",
       "      <td>Hallerson</td>\n",
       "    </tr>\n",
       "  </tbody>\n",
       "</table>\n",
       "</div>"
      ],
      "text/plain": [
       "                              facilities                        rating  \\\n",
       "0  GymrestaurantbarInternetSwimmingPools   8.0 ExcellentFrom 1 reviews   \n",
       "1           Poolrestaurantgyminternetbar  7.4 Very GoodFrom 22 reviews   \n",
       "2            BARSwimmingPoolsInternetgym        0.0 FairFrom 4 reviews   \n",
       "3   gymSwimmingPoolsBARintrnetRestaurant  6.8 Very GoodFrom 13 reviews   \n",
       "4            gymRestaurantpoolbarintrnet        0.0 FairFrom 9 reviews   \n",
       "\n",
       "    location  \n",
       "0     Stokol  \n",
       "1  Hallerson  \n",
       "2  Hallerson  \n",
       "3    Andeman  \n",
       "4  Hallerson  "
      ]
     },
     "execution_count": 5,
     "metadata": {},
     "output_type": "execute_result"
    }
   ],
   "source": [
    "test = test_features.drop(['ID'], axis=1)\n",
    "test.head()"
   ]
  },
  {
   "cell_type": "code",
   "execution_count": 6,
   "id": "c7827de0",
   "metadata": {},
   "outputs": [
    {
     "name": "stdout",
     "output_type": "stream",
     "text": [
      "Test feature dataframe shape: (767, 3)\n"
     ]
    }
   ],
   "source": [
    "print('Test feature dataframe shape:', test.shape)"
   ]
  },
  {
   "cell_type": "code",
   "execution_count": 7,
   "id": "dec3c16d",
   "metadata": {},
   "outputs": [
    {
     "data": {
      "text/html": [
       "<div>\n",
       "<style scoped>\n",
       "    .dataframe tbody tr th:only-of-type {\n",
       "        vertical-align: middle;\n",
       "    }\n",
       "\n",
       "    .dataframe tbody tr th {\n",
       "        vertical-align: top;\n",
       "    }\n",
       "\n",
       "    .dataframe thead th {\n",
       "        text-align: right;\n",
       "    }\n",
       "</style>\n",
       "<table border=\"1\" class=\"dataframe\">\n",
       "  <thead>\n",
       "    <tr style=\"text-align: right;\">\n",
       "      <th></th>\n",
       "      <th>facilities</th>\n",
       "      <th>rating</th>\n",
       "      <th>location</th>\n",
       "    </tr>\n",
       "  </thead>\n",
       "  <tbody>\n",
       "    <tr>\n",
       "      <th>0</th>\n",
       "      <td>RestaurantBARSwimmingPools</td>\n",
       "      <td>7.8 Very GoodFrom 10 reviews</td>\n",
       "      <td>Stokol</td>\n",
       "    </tr>\n",
       "    <tr>\n",
       "      <th>1</th>\n",
       "      <td>intrnetRestaurantgym</td>\n",
       "      <td>5.6 GoodFrom 4 reviews</td>\n",
       "      <td>Machlessvile</td>\n",
       "    </tr>\n",
       "    <tr>\n",
       "      <th>2</th>\n",
       "      <td>restaurantgympoolBar</td>\n",
       "      <td>7.2 Very GoodFrom 38 reviews</td>\n",
       "      <td>Wanderland</td>\n",
       "    </tr>\n",
       "    <tr>\n",
       "      <th>3</th>\n",
       "      <td>BARRestaurant</td>\n",
       "      <td>7.3 Very GoodFrom 6 reviews</td>\n",
       "      <td>Uberlandia</td>\n",
       "    </tr>\n",
       "    <tr>\n",
       "      <th>4</th>\n",
       "      <td>InternetRestaurant</td>\n",
       "      <td>7.2 Very GoodFrom 30 reviews</td>\n",
       "      <td>Stokol</td>\n",
       "    </tr>\n",
       "  </tbody>\n",
       "</table>\n",
       "</div>"
      ],
      "text/plain": [
       "                   facilities                        rating      location\n",
       "0  RestaurantBARSwimmingPools  7.8 Very GoodFrom 10 reviews        Stokol\n",
       "1        intrnetRestaurantgym        5.6 GoodFrom 4 reviews  Machlessvile\n",
       "2        restaurantgympoolBar  7.2 Very GoodFrom 38 reviews    Wanderland\n",
       "3               BARRestaurant   7.3 Very GoodFrom 6 reviews    Uberlandia\n",
       "4          InternetRestaurant  7.2 Very GoodFrom 30 reviews        Stokol"
      ]
     },
     "execution_count": 7,
     "metadata": {},
     "output_type": "execute_result"
    }
   ],
   "source": [
    "combine = pd.concat([train_features, test])\n",
    "combine.head()"
   ]
  },
  {
   "cell_type": "code",
   "execution_count": 8,
   "id": "3ea433fd",
   "metadata": {},
   "outputs": [
    {
     "name": "stdout",
     "output_type": "stream",
     "text": [
      "Combined feature dataframe shape: (3833, 3)\n"
     ]
    }
   ],
   "source": [
    "print('Combined feature dataframe shape:', combine.shape)"
   ]
  },
  {
   "cell_type": "code",
   "execution_count": 9,
   "id": "ec3fe206",
   "metadata": {},
   "outputs": [
    {
     "data": {
      "text/plain": [
       "facilities    301\n",
       "rating        637\n",
       "location        0\n",
       "dtype: int64"
      ]
     },
     "execution_count": 9,
     "metadata": {},
     "output_type": "execute_result"
    }
   ],
   "source": [
    "combine.isnull().sum()"
   ]
  },
  {
   "cell_type": "code",
   "execution_count": 10,
   "id": "e78591c4",
   "metadata": {
    "scrolled": true
   },
   "outputs": [
    {
     "data": {
      "text/html": [
       "<div>\n",
       "<style scoped>\n",
       "    .dataframe tbody tr th:only-of-type {\n",
       "        vertical-align: middle;\n",
       "    }\n",
       "\n",
       "    .dataframe tbody tr th {\n",
       "        vertical-align: top;\n",
       "    }\n",
       "\n",
       "    .dataframe thead th {\n",
       "        text-align: right;\n",
       "    }\n",
       "</style>\n",
       "<table border=\"1\" class=\"dataframe\">\n",
       "  <thead>\n",
       "    <tr style=\"text-align: right;\">\n",
       "      <th></th>\n",
       "      <th>facilities</th>\n",
       "      <th>rating</th>\n",
       "      <th>location</th>\n",
       "    </tr>\n",
       "  </thead>\n",
       "  <tbody>\n",
       "    <tr>\n",
       "      <th>0</th>\n",
       "      <td>restaurantbarswimmingpools</td>\n",
       "      <td>7.8 Very GoodFrom 10 reviews</td>\n",
       "      <td>Stokol</td>\n",
       "    </tr>\n",
       "    <tr>\n",
       "      <th>1</th>\n",
       "      <td>intrnetrestaurantgym</td>\n",
       "      <td>5.6 GoodFrom 4 reviews</td>\n",
       "      <td>Machlessvile</td>\n",
       "    </tr>\n",
       "    <tr>\n",
       "      <th>2</th>\n",
       "      <td>restaurantgympoolbar</td>\n",
       "      <td>7.2 Very GoodFrom 38 reviews</td>\n",
       "      <td>Wanderland</td>\n",
       "    </tr>\n",
       "    <tr>\n",
       "      <th>3</th>\n",
       "      <td>barrestaurant</td>\n",
       "      <td>7.3 Very GoodFrom 6 reviews</td>\n",
       "      <td>Uberlandia</td>\n",
       "    </tr>\n",
       "    <tr>\n",
       "      <th>4</th>\n",
       "      <td>internetrestaurant</td>\n",
       "      <td>7.2 Very GoodFrom 30 reviews</td>\n",
       "      <td>Stokol</td>\n",
       "    </tr>\n",
       "  </tbody>\n",
       "</table>\n",
       "</div>"
      ],
      "text/plain": [
       "                   facilities                        rating      location\n",
       "0  restaurantbarswimmingpools  7.8 Very GoodFrom 10 reviews        Stokol\n",
       "1        intrnetrestaurantgym        5.6 GoodFrom 4 reviews  Machlessvile\n",
       "2        restaurantgympoolbar  7.2 Very GoodFrom 38 reviews    Wanderland\n",
       "3               barrestaurant   7.3 Very GoodFrom 6 reviews    Uberlandia\n",
       "4          internetrestaurant  7.2 Very GoodFrom 30 reviews        Stokol"
      ]
     },
     "execution_count": 10,
     "metadata": {},
     "output_type": "execute_result"
    }
   ],
   "source": [
    "combine['facilities'] = combine['facilities'].str.lower()\n",
    "combine.head()"
   ]
  },
  {
   "cell_type": "code",
   "execution_count": 11,
   "id": "7b1214a4",
   "metadata": {},
   "outputs": [],
   "source": [
    "combine['facilities'].fillna('missing_facilities', inplace=True)\n",
    "combine['rating'].fillna('missing_rating', inplace=True)"
   ]
  },
  {
   "cell_type": "code",
   "execution_count": 12,
   "id": "ea80b7e0",
   "metadata": {
    "scrolled": true
   },
   "outputs": [
    {
     "data": {
      "text/html": [
       "<div>\n",
       "<style scoped>\n",
       "    .dataframe tbody tr th:only-of-type {\n",
       "        vertical-align: middle;\n",
       "    }\n",
       "\n",
       "    .dataframe tbody tr th {\n",
       "        vertical-align: top;\n",
       "    }\n",
       "\n",
       "    .dataframe thead th {\n",
       "        text-align: right;\n",
       "    }\n",
       "</style>\n",
       "<table border=\"1\" class=\"dataframe\">\n",
       "  <thead>\n",
       "    <tr style=\"text-align: right;\">\n",
       "      <th></th>\n",
       "      <th>facilities</th>\n",
       "      <th>rating</th>\n",
       "      <th>location</th>\n",
       "      <th>restaurant</th>\n",
       "      <th>bar</th>\n",
       "      <th>swimmingpools</th>\n",
       "      <th>internet</th>\n",
       "      <th>gym</th>\n",
       "      <th>intrnet</th>\n",
       "      <th>missing_facilities</th>\n",
       "    </tr>\n",
       "  </thead>\n",
       "  <tbody>\n",
       "    <tr>\n",
       "      <th>0</th>\n",
       "      <td>restaurantbarswimmingpools</td>\n",
       "      <td>7.8 Very GoodFrom 10 reviews</td>\n",
       "      <td>Stokol</td>\n",
       "      <td>1</td>\n",
       "      <td>1</td>\n",
       "      <td>1</td>\n",
       "      <td>0</td>\n",
       "      <td>0</td>\n",
       "      <td>0</td>\n",
       "      <td>0</td>\n",
       "    </tr>\n",
       "    <tr>\n",
       "      <th>1</th>\n",
       "      <td>intrnetrestaurantgym</td>\n",
       "      <td>5.6 GoodFrom 4 reviews</td>\n",
       "      <td>Machlessvile</td>\n",
       "      <td>1</td>\n",
       "      <td>0</td>\n",
       "      <td>0</td>\n",
       "      <td>0</td>\n",
       "      <td>1</td>\n",
       "      <td>1</td>\n",
       "      <td>0</td>\n",
       "    </tr>\n",
       "    <tr>\n",
       "      <th>2</th>\n",
       "      <td>restaurantgympoolbar</td>\n",
       "      <td>7.2 Very GoodFrom 38 reviews</td>\n",
       "      <td>Wanderland</td>\n",
       "      <td>1</td>\n",
       "      <td>1</td>\n",
       "      <td>0</td>\n",
       "      <td>0</td>\n",
       "      <td>1</td>\n",
       "      <td>0</td>\n",
       "      <td>0</td>\n",
       "    </tr>\n",
       "    <tr>\n",
       "      <th>3</th>\n",
       "      <td>barrestaurant</td>\n",
       "      <td>7.3 Very GoodFrom 6 reviews</td>\n",
       "      <td>Uberlandia</td>\n",
       "      <td>1</td>\n",
       "      <td>1</td>\n",
       "      <td>0</td>\n",
       "      <td>0</td>\n",
       "      <td>0</td>\n",
       "      <td>0</td>\n",
       "      <td>0</td>\n",
       "    </tr>\n",
       "    <tr>\n",
       "      <th>4</th>\n",
       "      <td>internetrestaurant</td>\n",
       "      <td>7.2 Very GoodFrom 30 reviews</td>\n",
       "      <td>Stokol</td>\n",
       "      <td>1</td>\n",
       "      <td>0</td>\n",
       "      <td>0</td>\n",
       "      <td>1</td>\n",
       "      <td>0</td>\n",
       "      <td>0</td>\n",
       "      <td>0</td>\n",
       "    </tr>\n",
       "  </tbody>\n",
       "</table>\n",
       "</div>"
      ],
      "text/plain": [
       "                   facilities                        rating      location  \\\n",
       "0  restaurantbarswimmingpools  7.8 Very GoodFrom 10 reviews        Stokol   \n",
       "1        intrnetrestaurantgym        5.6 GoodFrom 4 reviews  Machlessvile   \n",
       "2        restaurantgympoolbar  7.2 Very GoodFrom 38 reviews    Wanderland   \n",
       "3               barrestaurant   7.3 Very GoodFrom 6 reviews    Uberlandia   \n",
       "4          internetrestaurant  7.2 Very GoodFrom 30 reviews        Stokol   \n",
       "\n",
       "   restaurant  bar  swimmingpools  internet  gym  intrnet  missing_facilities  \n",
       "0           1    1              1         0    0        0                   0  \n",
       "1           1    0              0         0    1        1                   0  \n",
       "2           1    1              0         0    1        0                   0  \n",
       "3           1    1              0         0    0        0                   0  \n",
       "4           1    0              0         1    0        0                   0  "
      ]
     },
     "execution_count": 12,
     "metadata": {},
     "output_type": "execute_result"
    }
   ],
   "source": [
    "# Create a new column for each facility\n",
    "facilities = ['restaurant', 'bar', 'swimmingpools', 'internet', 'gym', 'intrnet', 'missing_facilities']\n",
    "for facility in facilities:\n",
    "    combine[facility] = np.where(combine['facilities'].str.contains(facility), 1, 0)\n",
    "combine.head()"
   ]
  },
  {
   "cell_type": "code",
   "execution_count": 13,
   "id": "69fd8656",
   "metadata": {},
   "outputs": [],
   "source": [
    "def extract_avg_rating(text):\n",
    "    if len(text.split()) > 3:\n",
    "        return np.float32(text.split()[0])\n",
    "    return 0"
   ]
  },
  {
   "cell_type": "code",
   "execution_count": 14,
   "id": "d1f80f81",
   "metadata": {
    "scrolled": false
   },
   "outputs": [
    {
     "data": {
      "text/html": [
       "<div>\n",
       "<style scoped>\n",
       "    .dataframe tbody tr th:only-of-type {\n",
       "        vertical-align: middle;\n",
       "    }\n",
       "\n",
       "    .dataframe tbody tr th {\n",
       "        vertical-align: top;\n",
       "    }\n",
       "\n",
       "    .dataframe thead th {\n",
       "        text-align: right;\n",
       "    }\n",
       "</style>\n",
       "<table border=\"1\" class=\"dataframe\">\n",
       "  <thead>\n",
       "    <tr style=\"text-align: right;\">\n",
       "      <th></th>\n",
       "      <th>facilities</th>\n",
       "      <th>rating</th>\n",
       "      <th>location</th>\n",
       "      <th>restaurant</th>\n",
       "      <th>bar</th>\n",
       "      <th>swimmingpools</th>\n",
       "      <th>internet</th>\n",
       "      <th>gym</th>\n",
       "      <th>intrnet</th>\n",
       "      <th>missing_facilities</th>\n",
       "      <th>avg_rating</th>\n",
       "    </tr>\n",
       "  </thead>\n",
       "  <tbody>\n",
       "    <tr>\n",
       "      <th>0</th>\n",
       "      <td>restaurantbarswimmingpools</td>\n",
       "      <td>7.8 Very GoodFrom 10 reviews</td>\n",
       "      <td>Stokol</td>\n",
       "      <td>1</td>\n",
       "      <td>1</td>\n",
       "      <td>1</td>\n",
       "      <td>0</td>\n",
       "      <td>0</td>\n",
       "      <td>0</td>\n",
       "      <td>0</td>\n",
       "      <td>7.8</td>\n",
       "    </tr>\n",
       "    <tr>\n",
       "      <th>1</th>\n",
       "      <td>intrnetrestaurantgym</td>\n",
       "      <td>5.6 GoodFrom 4 reviews</td>\n",
       "      <td>Machlessvile</td>\n",
       "      <td>1</td>\n",
       "      <td>0</td>\n",
       "      <td>0</td>\n",
       "      <td>0</td>\n",
       "      <td>1</td>\n",
       "      <td>1</td>\n",
       "      <td>0</td>\n",
       "      <td>5.6</td>\n",
       "    </tr>\n",
       "    <tr>\n",
       "      <th>2</th>\n",
       "      <td>restaurantgympoolbar</td>\n",
       "      <td>7.2 Very GoodFrom 38 reviews</td>\n",
       "      <td>Wanderland</td>\n",
       "      <td>1</td>\n",
       "      <td>1</td>\n",
       "      <td>0</td>\n",
       "      <td>0</td>\n",
       "      <td>1</td>\n",
       "      <td>0</td>\n",
       "      <td>0</td>\n",
       "      <td>7.2</td>\n",
       "    </tr>\n",
       "    <tr>\n",
       "      <th>3</th>\n",
       "      <td>barrestaurant</td>\n",
       "      <td>7.3 Very GoodFrom 6 reviews</td>\n",
       "      <td>Uberlandia</td>\n",
       "      <td>1</td>\n",
       "      <td>1</td>\n",
       "      <td>0</td>\n",
       "      <td>0</td>\n",
       "      <td>0</td>\n",
       "      <td>0</td>\n",
       "      <td>0</td>\n",
       "      <td>7.3</td>\n",
       "    </tr>\n",
       "    <tr>\n",
       "      <th>4</th>\n",
       "      <td>internetrestaurant</td>\n",
       "      <td>7.2 Very GoodFrom 30 reviews</td>\n",
       "      <td>Stokol</td>\n",
       "      <td>1</td>\n",
       "      <td>0</td>\n",
       "      <td>0</td>\n",
       "      <td>1</td>\n",
       "      <td>0</td>\n",
       "      <td>0</td>\n",
       "      <td>0</td>\n",
       "      <td>7.2</td>\n",
       "    </tr>\n",
       "  </tbody>\n",
       "</table>\n",
       "</div>"
      ],
      "text/plain": [
       "                   facilities                        rating      location  \\\n",
       "0  restaurantbarswimmingpools  7.8 Very GoodFrom 10 reviews        Stokol   \n",
       "1        intrnetrestaurantgym        5.6 GoodFrom 4 reviews  Machlessvile   \n",
       "2        restaurantgympoolbar  7.2 Very GoodFrom 38 reviews    Wanderland   \n",
       "3               barrestaurant   7.3 Very GoodFrom 6 reviews    Uberlandia   \n",
       "4          internetrestaurant  7.2 Very GoodFrom 30 reviews        Stokol   \n",
       "\n",
       "   restaurant  bar  swimmingpools  internet  gym  intrnet  missing_facilities  \\\n",
       "0           1    1              1         0    0        0                   0   \n",
       "1           1    0              0         0    1        1                   0   \n",
       "2           1    1              0         0    1        0                   0   \n",
       "3           1    1              0         0    0        0                   0   \n",
       "4           1    0              0         1    0        0                   0   \n",
       "\n",
       "   avg_rating  \n",
       "0         7.8  \n",
       "1         5.6  \n",
       "2         7.2  \n",
       "3         7.3  \n",
       "4         7.2  "
      ]
     },
     "execution_count": 14,
     "metadata": {},
     "output_type": "execute_result"
    }
   ],
   "source": [
    "combine['avg_rating'] = combine['rating'].apply(extract_avg_rating)\n",
    "combine['avg_rating'] = combine['avg_rating'].astype(np.float32)\n",
    "combine.head()"
   ]
  },
  {
   "cell_type": "code",
   "execution_count": 15,
   "id": "a15ff50d",
   "metadata": {},
   "outputs": [],
   "source": [
    "def extract_total_rating(text):\n",
    "    if len(text.split()) >=2:\n",
    "        return np.float32(text.split()[-2])\n",
    "    return 0"
   ]
  },
  {
   "cell_type": "code",
   "execution_count": 16,
   "id": "7b606a5a",
   "metadata": {
    "scrolled": true
   },
   "outputs": [
    {
     "data": {
      "text/html": [
       "<div>\n",
       "<style scoped>\n",
       "    .dataframe tbody tr th:only-of-type {\n",
       "        vertical-align: middle;\n",
       "    }\n",
       "\n",
       "    .dataframe tbody tr th {\n",
       "        vertical-align: top;\n",
       "    }\n",
       "\n",
       "    .dataframe thead th {\n",
       "        text-align: right;\n",
       "    }\n",
       "</style>\n",
       "<table border=\"1\" class=\"dataframe\">\n",
       "  <thead>\n",
       "    <tr style=\"text-align: right;\">\n",
       "      <th></th>\n",
       "      <th>facilities</th>\n",
       "      <th>rating</th>\n",
       "      <th>location</th>\n",
       "      <th>restaurant</th>\n",
       "      <th>bar</th>\n",
       "      <th>swimmingpools</th>\n",
       "      <th>internet</th>\n",
       "      <th>gym</th>\n",
       "      <th>intrnet</th>\n",
       "      <th>missing_facilities</th>\n",
       "      <th>avg_rating</th>\n",
       "      <th>total_rating</th>\n",
       "    </tr>\n",
       "  </thead>\n",
       "  <tbody>\n",
       "    <tr>\n",
       "      <th>0</th>\n",
       "      <td>restaurantbarswimmingpools</td>\n",
       "      <td>7.8 Very GoodFrom 10 reviews</td>\n",
       "      <td>Stokol</td>\n",
       "      <td>1</td>\n",
       "      <td>1</td>\n",
       "      <td>1</td>\n",
       "      <td>0</td>\n",
       "      <td>0</td>\n",
       "      <td>0</td>\n",
       "      <td>0</td>\n",
       "      <td>7.8</td>\n",
       "      <td>10.0</td>\n",
       "    </tr>\n",
       "    <tr>\n",
       "      <th>1</th>\n",
       "      <td>intrnetrestaurantgym</td>\n",
       "      <td>5.6 GoodFrom 4 reviews</td>\n",
       "      <td>Machlessvile</td>\n",
       "      <td>1</td>\n",
       "      <td>0</td>\n",
       "      <td>0</td>\n",
       "      <td>0</td>\n",
       "      <td>1</td>\n",
       "      <td>1</td>\n",
       "      <td>0</td>\n",
       "      <td>5.6</td>\n",
       "      <td>4.0</td>\n",
       "    </tr>\n",
       "    <tr>\n",
       "      <th>2</th>\n",
       "      <td>restaurantgympoolbar</td>\n",
       "      <td>7.2 Very GoodFrom 38 reviews</td>\n",
       "      <td>Wanderland</td>\n",
       "      <td>1</td>\n",
       "      <td>1</td>\n",
       "      <td>0</td>\n",
       "      <td>0</td>\n",
       "      <td>1</td>\n",
       "      <td>0</td>\n",
       "      <td>0</td>\n",
       "      <td>7.2</td>\n",
       "      <td>38.0</td>\n",
       "    </tr>\n",
       "    <tr>\n",
       "      <th>3</th>\n",
       "      <td>barrestaurant</td>\n",
       "      <td>7.3 Very GoodFrom 6 reviews</td>\n",
       "      <td>Uberlandia</td>\n",
       "      <td>1</td>\n",
       "      <td>1</td>\n",
       "      <td>0</td>\n",
       "      <td>0</td>\n",
       "      <td>0</td>\n",
       "      <td>0</td>\n",
       "      <td>0</td>\n",
       "      <td>7.3</td>\n",
       "      <td>6.0</td>\n",
       "    </tr>\n",
       "    <tr>\n",
       "      <th>4</th>\n",
       "      <td>internetrestaurant</td>\n",
       "      <td>7.2 Very GoodFrom 30 reviews</td>\n",
       "      <td>Stokol</td>\n",
       "      <td>1</td>\n",
       "      <td>0</td>\n",
       "      <td>0</td>\n",
       "      <td>1</td>\n",
       "      <td>0</td>\n",
       "      <td>0</td>\n",
       "      <td>0</td>\n",
       "      <td>7.2</td>\n",
       "      <td>30.0</td>\n",
       "    </tr>\n",
       "  </tbody>\n",
       "</table>\n",
       "</div>"
      ],
      "text/plain": [
       "                   facilities                        rating      location  \\\n",
       "0  restaurantbarswimmingpools  7.8 Very GoodFrom 10 reviews        Stokol   \n",
       "1        intrnetrestaurantgym        5.6 GoodFrom 4 reviews  Machlessvile   \n",
       "2        restaurantgympoolbar  7.2 Very GoodFrom 38 reviews    Wanderland   \n",
       "3               barrestaurant   7.3 Very GoodFrom 6 reviews    Uberlandia   \n",
       "4          internetrestaurant  7.2 Very GoodFrom 30 reviews        Stokol   \n",
       "\n",
       "   restaurant  bar  swimmingpools  internet  gym  intrnet  missing_facilities  \\\n",
       "0           1    1              1         0    0        0                   0   \n",
       "1           1    0              0         0    1        1                   0   \n",
       "2           1    1              0         0    1        0                   0   \n",
       "3           1    1              0         0    0        0                   0   \n",
       "4           1    0              0         1    0        0                   0   \n",
       "\n",
       "   avg_rating  total_rating  \n",
       "0         7.8          10.0  \n",
       "1         5.6           4.0  \n",
       "2         7.2          38.0  \n",
       "3         7.3           6.0  \n",
       "4         7.2          30.0  "
      ]
     },
     "execution_count": 16,
     "metadata": {},
     "output_type": "execute_result"
    }
   ],
   "source": [
    "combine['total_rating'] = combine['rating'].apply(extract_total_rating)\n",
    "combine['total_rating'] = combine['total_rating'].astype(np.float32)\n",
    "combine.head()"
   ]
  },
  {
   "cell_type": "code",
   "execution_count": 17,
   "id": "d77f048a",
   "metadata": {},
   "outputs": [
    {
     "data": {
      "text/html": [
       "<div>\n",
       "<style scoped>\n",
       "    .dataframe tbody tr th:only-of-type {\n",
       "        vertical-align: middle;\n",
       "    }\n",
       "\n",
       "    .dataframe tbody tr th {\n",
       "        vertical-align: top;\n",
       "    }\n",
       "\n",
       "    .dataframe thead th {\n",
       "        text-align: right;\n",
       "    }\n",
       "</style>\n",
       "<table border=\"1\" class=\"dataframe\">\n",
       "  <thead>\n",
       "    <tr style=\"text-align: right;\">\n",
       "      <th></th>\n",
       "      <th>facilities</th>\n",
       "      <th>rating</th>\n",
       "      <th>location</th>\n",
       "      <th>restaurant</th>\n",
       "      <th>bar</th>\n",
       "      <th>swimmingpools</th>\n",
       "      <th>internet</th>\n",
       "      <th>gym</th>\n",
       "      <th>intrnet</th>\n",
       "      <th>missing_facilities</th>\n",
       "      <th>avg_rating</th>\n",
       "      <th>total_rating</th>\n",
       "      <th>rating_encode</th>\n",
       "    </tr>\n",
       "  </thead>\n",
       "  <tbody>\n",
       "    <tr>\n",
       "      <th>0</th>\n",
       "      <td>restaurantbarswimmingpools</td>\n",
       "      <td>7.8 Very GoodFrom 10 reviews</td>\n",
       "      <td>Stokol</td>\n",
       "      <td>1</td>\n",
       "      <td>1</td>\n",
       "      <td>1</td>\n",
       "      <td>0</td>\n",
       "      <td>0</td>\n",
       "      <td>0</td>\n",
       "      <td>0</td>\n",
       "      <td>7.8</td>\n",
       "      <td>10.0</td>\n",
       "      <td>3</td>\n",
       "    </tr>\n",
       "    <tr>\n",
       "      <th>1</th>\n",
       "      <td>intrnetrestaurantgym</td>\n",
       "      <td>5.6 GoodFrom 4 reviews</td>\n",
       "      <td>Machlessvile</td>\n",
       "      <td>1</td>\n",
       "      <td>0</td>\n",
       "      <td>0</td>\n",
       "      <td>0</td>\n",
       "      <td>1</td>\n",
       "      <td>1</td>\n",
       "      <td>0</td>\n",
       "      <td>5.6</td>\n",
       "      <td>4.0</td>\n",
       "      <td>2</td>\n",
       "    </tr>\n",
       "    <tr>\n",
       "      <th>2</th>\n",
       "      <td>restaurantgympoolbar</td>\n",
       "      <td>7.2 Very GoodFrom 38 reviews</td>\n",
       "      <td>Wanderland</td>\n",
       "      <td>1</td>\n",
       "      <td>1</td>\n",
       "      <td>0</td>\n",
       "      <td>0</td>\n",
       "      <td>1</td>\n",
       "      <td>0</td>\n",
       "      <td>0</td>\n",
       "      <td>7.2</td>\n",
       "      <td>38.0</td>\n",
       "      <td>3</td>\n",
       "    </tr>\n",
       "    <tr>\n",
       "      <th>3</th>\n",
       "      <td>barrestaurant</td>\n",
       "      <td>7.3 Very GoodFrom 6 reviews</td>\n",
       "      <td>Uberlandia</td>\n",
       "      <td>1</td>\n",
       "      <td>1</td>\n",
       "      <td>0</td>\n",
       "      <td>0</td>\n",
       "      <td>0</td>\n",
       "      <td>0</td>\n",
       "      <td>0</td>\n",
       "      <td>7.3</td>\n",
       "      <td>6.0</td>\n",
       "      <td>3</td>\n",
       "    </tr>\n",
       "    <tr>\n",
       "      <th>4</th>\n",
       "      <td>internetrestaurant</td>\n",
       "      <td>7.2 Very GoodFrom 30 reviews</td>\n",
       "      <td>Stokol</td>\n",
       "      <td>1</td>\n",
       "      <td>0</td>\n",
       "      <td>0</td>\n",
       "      <td>1</td>\n",
       "      <td>0</td>\n",
       "      <td>0</td>\n",
       "      <td>0</td>\n",
       "      <td>7.2</td>\n",
       "      <td>30.0</td>\n",
       "      <td>3</td>\n",
       "    </tr>\n",
       "  </tbody>\n",
       "</table>\n",
       "</div>"
      ],
      "text/plain": [
       "                   facilities                        rating      location  \\\n",
       "0  restaurantbarswimmingpools  7.8 Very GoodFrom 10 reviews        Stokol   \n",
       "1        intrnetrestaurantgym        5.6 GoodFrom 4 reviews  Machlessvile   \n",
       "2        restaurantgympoolbar  7.2 Very GoodFrom 38 reviews    Wanderland   \n",
       "3               barrestaurant   7.3 Very GoodFrom 6 reviews    Uberlandia   \n",
       "4          internetrestaurant  7.2 Very GoodFrom 30 reviews        Stokol   \n",
       "\n",
       "   restaurant  bar  swimmingpools  internet  gym  intrnet  missing_facilities  \\\n",
       "0           1    1              1         0    0        0                   0   \n",
       "1           1    0              0         0    1        1                   0   \n",
       "2           1    1              0         0    1        0                   0   \n",
       "3           1    1              0         0    0        0                   0   \n",
       "4           1    0              0         1    0        0                   0   \n",
       "\n",
       "   avg_rating  total_rating  rating_encode  \n",
       "0         7.8          10.0              3  \n",
       "1         5.6           4.0              2  \n",
       "2         7.2          38.0              3  \n",
       "3         7.3           6.0              3  \n",
       "4         7.2          30.0              3  "
      ]
     },
     "execution_count": 17,
     "metadata": {},
     "output_type": "execute_result"
    }
   ],
   "source": [
    "def extract_rating(text):\n",
    "    ratings = {\n",
    "    'very good': 3,\n",
    "    'fair': 1,\n",
    "    'good': 2,\n",
    "    'excellent': 4\n",
    "    }\n",
    "    for k, v in ratings.items():\n",
    "        if k.lower() in text.lower():\n",
    "            return ratings[k]\n",
    "    return 1\n",
    "\n",
    "combine['rating_encode'] = combine['rating'].apply(extract_rating)\n",
    "combine.head()"
   ]
  },
  {
   "cell_type": "code",
   "execution_count": 18,
   "id": "946af285",
   "metadata": {
    "scrolled": false
   },
   "outputs": [
    {
     "data": {
      "text/html": [
       "<div>\n",
       "<style scoped>\n",
       "    .dataframe tbody tr th:only-of-type {\n",
       "        vertical-align: middle;\n",
       "    }\n",
       "\n",
       "    .dataframe tbody tr th {\n",
       "        vertical-align: top;\n",
       "    }\n",
       "\n",
       "    .dataframe thead th {\n",
       "        text-align: right;\n",
       "    }\n",
       "</style>\n",
       "<table border=\"1\" class=\"dataframe\">\n",
       "  <thead>\n",
       "    <tr style=\"text-align: right;\">\n",
       "      <th></th>\n",
       "      <th>facilities</th>\n",
       "      <th>rating</th>\n",
       "      <th>location</th>\n",
       "      <th>restaurant</th>\n",
       "      <th>bar</th>\n",
       "      <th>swimmingpools</th>\n",
       "      <th>internet</th>\n",
       "      <th>gym</th>\n",
       "      <th>missing_facilities</th>\n",
       "      <th>avg_rating</th>\n",
       "      <th>total_rating</th>\n",
       "      <th>rating_encode</th>\n",
       "    </tr>\n",
       "  </thead>\n",
       "  <tbody>\n",
       "    <tr>\n",
       "      <th>0</th>\n",
       "      <td>restaurantbarswimmingpools</td>\n",
       "      <td>7.8 Very GoodFrom 10 reviews</td>\n",
       "      <td>Stokol</td>\n",
       "      <td>1</td>\n",
       "      <td>1</td>\n",
       "      <td>1</td>\n",
       "      <td>0</td>\n",
       "      <td>0</td>\n",
       "      <td>0</td>\n",
       "      <td>7.8</td>\n",
       "      <td>10.0</td>\n",
       "      <td>3</td>\n",
       "    </tr>\n",
       "    <tr>\n",
       "      <th>1</th>\n",
       "      <td>intrnetrestaurantgym</td>\n",
       "      <td>5.6 GoodFrom 4 reviews</td>\n",
       "      <td>Machlessvile</td>\n",
       "      <td>1</td>\n",
       "      <td>0</td>\n",
       "      <td>0</td>\n",
       "      <td>1</td>\n",
       "      <td>1</td>\n",
       "      <td>0</td>\n",
       "      <td>5.6</td>\n",
       "      <td>4.0</td>\n",
       "      <td>2</td>\n",
       "    </tr>\n",
       "    <tr>\n",
       "      <th>2</th>\n",
       "      <td>restaurantgympoolbar</td>\n",
       "      <td>7.2 Very GoodFrom 38 reviews</td>\n",
       "      <td>Wanderland</td>\n",
       "      <td>1</td>\n",
       "      <td>1</td>\n",
       "      <td>0</td>\n",
       "      <td>0</td>\n",
       "      <td>1</td>\n",
       "      <td>0</td>\n",
       "      <td>7.2</td>\n",
       "      <td>38.0</td>\n",
       "      <td>3</td>\n",
       "    </tr>\n",
       "    <tr>\n",
       "      <th>3</th>\n",
       "      <td>barrestaurant</td>\n",
       "      <td>7.3 Very GoodFrom 6 reviews</td>\n",
       "      <td>Uberlandia</td>\n",
       "      <td>1</td>\n",
       "      <td>1</td>\n",
       "      <td>0</td>\n",
       "      <td>0</td>\n",
       "      <td>0</td>\n",
       "      <td>0</td>\n",
       "      <td>7.3</td>\n",
       "      <td>6.0</td>\n",
       "      <td>3</td>\n",
       "    </tr>\n",
       "    <tr>\n",
       "      <th>4</th>\n",
       "      <td>internetrestaurant</td>\n",
       "      <td>7.2 Very GoodFrom 30 reviews</td>\n",
       "      <td>Stokol</td>\n",
       "      <td>1</td>\n",
       "      <td>0</td>\n",
       "      <td>0</td>\n",
       "      <td>1</td>\n",
       "      <td>0</td>\n",
       "      <td>0</td>\n",
       "      <td>7.2</td>\n",
       "      <td>30.0</td>\n",
       "      <td>3</td>\n",
       "    </tr>\n",
       "  </tbody>\n",
       "</table>\n",
       "</div>"
      ],
      "text/plain": [
       "                   facilities                        rating      location  \\\n",
       "0  restaurantbarswimmingpools  7.8 Very GoodFrom 10 reviews        Stokol   \n",
       "1        intrnetrestaurantgym        5.6 GoodFrom 4 reviews  Machlessvile   \n",
       "2        restaurantgympoolbar  7.2 Very GoodFrom 38 reviews    Wanderland   \n",
       "3               barrestaurant   7.3 Very GoodFrom 6 reviews    Uberlandia   \n",
       "4          internetrestaurant  7.2 Very GoodFrom 30 reviews        Stokol   \n",
       "\n",
       "   restaurant  bar  swimmingpools  internet  gym  missing_facilities  \\\n",
       "0           1    1              1         0    0                   0   \n",
       "1           1    0              0         1    1                   0   \n",
       "2           1    1              0         0    1                   0   \n",
       "3           1    1              0         0    0                   0   \n",
       "4           1    0              0         1    0                   0   \n",
       "\n",
       "   avg_rating  total_rating  rating_encode  \n",
       "0         7.8          10.0              3  \n",
       "1         5.6           4.0              2  \n",
       "2         7.2          38.0              3  \n",
       "3         7.3           6.0              3  \n",
       "4         7.2          30.0              3  "
      ]
     },
     "execution_count": 18,
     "metadata": {},
     "output_type": "execute_result"
    }
   ],
   "source": [
    "combine['internet'] = combine['internet'] + combine['intrnet']\n",
    "combine = combine.drop(['intrnet'], axis=1)\n",
    "combine.head()"
   ]
  },
  {
   "cell_type": "markdown",
   "id": "32840dad",
   "metadata": {},
   "source": [
    "# Exploratory Data Analysis"
   ]
  },
  {
   "cell_type": "code",
   "execution_count": 19,
   "id": "dd9801ee",
   "metadata": {},
   "outputs": [
    {
     "data": {
      "image/png": "[encoded data removed]",
      "text/plain": [
       "<Figure size 1440x720 with 1 Axes>"
      ]
     },
     "metadata": {
      "needs_background": "light"
     },
     "output_type": "display_data"
    }
   ],
   "source": [
    "from matplotlib import pyplot as plt\n",
    "import seaborn as sns\n",
    "plt.rcParams['figure.figsize'] = (20, 10)\n",
    "\n",
    "locations = combine['location'].value_counts()\n",
    "sns.barplot(x=locations.index, y=locations.values)\n",
    "plt.title('Distribution of building location', fontsize=14, pad=20)\n",
    "plt.show()"
   ]
  },
  {
   "cell_type": "code",
   "execution_count": 20,
   "id": "810bf9b6",
   "metadata": {},
   "outputs": [
    {
     "data": {
      "text/html": [
       "<div>\n",
       "<style scoped>\n",
       "    .dataframe tbody tr th:only-of-type {\n",
       "        vertical-align: middle;\n",
       "    }\n",
       "\n",
       "    .dataframe tbody tr th {\n",
       "        vertical-align: top;\n",
       "    }\n",
       "\n",
       "    .dataframe thead th {\n",
       "        text-align: right;\n",
       "    }\n",
       "</style>\n",
       "<table border=\"1\" class=\"dataframe\">\n",
       "  <thead>\n",
       "    <tr style=\"text-align: right;\">\n",
       "      <th></th>\n",
       "      <th>facilities</th>\n",
       "      <th>counts</th>\n",
       "    </tr>\n",
       "  </thead>\n",
       "  <tbody>\n",
       "    <tr>\n",
       "      <th>0</th>\n",
       "      <td>restaurant</td>\n",
       "      <td>3063</td>\n",
       "    </tr>\n",
       "    <tr>\n",
       "      <th>1</th>\n",
       "      <td>bar</td>\n",
       "      <td>2948</td>\n",
       "    </tr>\n",
       "    <tr>\n",
       "      <th>3</th>\n",
       "      <td>internet</td>\n",
       "      <td>2064</td>\n",
       "    </tr>\n",
       "    <tr>\n",
       "      <th>4</th>\n",
       "      <td>gym</td>\n",
       "      <td>1430</td>\n",
       "    </tr>\n",
       "    <tr>\n",
       "      <th>2</th>\n",
       "      <td>swimmingpools</td>\n",
       "      <td>884</td>\n",
       "    </tr>\n",
       "    <tr>\n",
       "      <th>5</th>\n",
       "      <td>missing_facilities</td>\n",
       "      <td>301</td>\n",
       "    </tr>\n",
       "  </tbody>\n",
       "</table>\n",
       "</div>"
      ],
      "text/plain": [
       "           facilities  counts\n",
       "0          restaurant    3063\n",
       "1                 bar    2948\n",
       "3            internet    2064\n",
       "4                 gym    1430\n",
       "2       swimmingpools     884\n",
       "5  missing_facilities     301"
      ]
     },
     "execution_count": 20,
     "metadata": {},
     "output_type": "execute_result"
    }
   ],
   "source": [
    "facitilites = pd.DataFrame({\n",
    "    'facilities': combine.columns[3:9],\n",
    "    'counts': [np.sum(combine[col]) for col in combine.columns[3:9]]\n",
    "}).sort_values('counts', ascending=False)\n",
    "\n",
    "facitilites"
   ]
  },
  {
   "cell_type": "code",
   "execution_count": 21,
   "id": "faacb0d7",
   "metadata": {},
   "outputs": [
    {
     "data": {
      "image/png": "[encoded data removed]",
      "text/plain": [
       "<Figure size 1440x720 with 1 Axes>"
      ]
     },
     "metadata": {
      "needs_background": "light"
     },
     "output_type": "display_data"
    }
   ],
   "source": [
    "sns.barplot(data=facitilites, x='facilities', y='counts')\n",
    "plt.title('Distribution of facilities', fontsize=14, pad=20)\n",
    "plt.show()"
   ]
  },
  {
   "cell_type": "code",
   "execution_count": 22,
   "id": "855ea7c8",
   "metadata": {},
   "outputs": [
    {
     "data": {
      "image/png": "[encoded data removed]",
      "text/plain": [
       "<Figure size 1440x720 with 1 Axes>"
      ]
     },
     "metadata": {
      "needs_background": "light"
     },
     "output_type": "display_data"
    }
   ],
   "source": [
    "avg_rating = combine['avg_rating'].values\n",
    "sns.histplot(x=avg_rating, kde=True)\n",
    "plt.show()"
   ]
  },
  {
   "cell_type": "code",
   "execution_count": 23,
   "id": "4f24701b",
   "metadata": {},
   "outputs": [
    {
     "data": {
      "image/png": "[encoded data removed]",
      "text/plain": [
       "<Figure size 1440x720 with 1 Axes>"
      ]
     },
     "metadata": {
      "needs_background": "light"
     },
     "output_type": "display_data"
    }
   ],
   "source": [
    "sns.boxplot(x=avg_rating)\n",
    "plt.title('Distribution of average rating', fontsize=14, pad=20)\n",
    "plt.show()"
   ]
  },
  {
   "cell_type": "code",
   "execution_count": 24,
   "id": "268f0a75",
   "metadata": {},
   "outputs": [
    {
     "data": {
      "text/html": [
       "<div>\n",
       "<style scoped>\n",
       "    .dataframe tbody tr th:only-of-type {\n",
       "        vertical-align: middle;\n",
       "    }\n",
       "\n",
       "    .dataframe tbody tr th {\n",
       "        vertical-align: top;\n",
       "    }\n",
       "\n",
       "    .dataframe thead th {\n",
       "        text-align: right;\n",
       "    }\n",
       "</style>\n",
       "<table border=\"1\" class=\"dataframe\">\n",
       "  <thead>\n",
       "    <tr style=\"text-align: right;\">\n",
       "      <th></th>\n",
       "      <th>rating</th>\n",
       "      <th>counts</th>\n",
       "    </tr>\n",
       "  </thead>\n",
       "  <tbody>\n",
       "    <tr>\n",
       "      <th>3</th>\n",
       "      <td>total_rating</td>\n",
       "      <td>54533.000000</td>\n",
       "    </tr>\n",
       "    <tr>\n",
       "      <th>2</th>\n",
       "      <td>avg_rating</td>\n",
       "      <td>21970.599609</td>\n",
       "    </tr>\n",
       "    <tr>\n",
       "      <th>4</th>\n",
       "      <td>rating_encode</td>\n",
       "      <td>10350.000000</td>\n",
       "    </tr>\n",
       "    <tr>\n",
       "      <th>0</th>\n",
       "      <td>gym</td>\n",
       "      <td>1430.000000</td>\n",
       "    </tr>\n",
       "    <tr>\n",
       "      <th>1</th>\n",
       "      <td>missing_facilities</td>\n",
       "      <td>301.000000</td>\n",
       "    </tr>\n",
       "  </tbody>\n",
       "</table>\n",
       "</div>"
      ],
      "text/plain": [
       "               rating        counts\n",
       "3        total_rating  54533.000000\n",
       "2          avg_rating  21970.599609\n",
       "4       rating_encode  10350.000000\n",
       "0                 gym   1430.000000\n",
       "1  missing_facilities    301.000000"
      ]
     },
     "execution_count": 24,
     "metadata": {},
     "output_type": "execute_result"
    }
   ],
   "source": [
    "rating = pd.DataFrame({\n",
    "    'rating': combine.columns[-5:],\n",
    "    'counts': [np.sum(combine[col]) for col in combine.columns[-5:]]\n",
    "}).sort_values('counts', ascending=False)\n",
    "\n",
    "rating"
   ]
  },
  {
   "cell_type": "code",
   "execution_count": 25,
   "id": "c480715c",
   "metadata": {},
   "outputs": [
    {
     "data": {
      "image/png": "[encoded data removed]",
      "text/plain": [
       "<Figure size 1440x720 with 1 Axes>"
      ]
     },
     "metadata": {
      "needs_background": "light"
     },
     "output_type": "display_data"
    }
   ],
   "source": [
    "sns.barplot(data=rating, x='rating', y='counts')\n",
    "plt.title('Distribution of facilities rating', fontsize=14, pad=20)\n",
    "plt.show()"
   ]
  },
  {
   "cell_type": "code",
   "execution_count": 26,
   "id": "0ed03495",
   "metadata": {},
   "outputs": [
    {
     "data": {
      "text/html": [
       "<div>\n",
       "<style scoped>\n",
       "    .dataframe tbody tr th:only-of-type {\n",
       "        vertical-align: middle;\n",
       "    }\n",
       "\n",
       "    .dataframe tbody tr th {\n",
       "        vertical-align: top;\n",
       "    }\n",
       "\n",
       "    .dataframe thead th {\n",
       "        text-align: right;\n",
       "    }\n",
       "</style>\n",
       "<table border=\"1\" class=\"dataframe\">\n",
       "  <thead>\n",
       "    <tr style=\"text-align: right;\">\n",
       "      <th></th>\n",
       "      <th>facilities</th>\n",
       "      <th>rating</th>\n",
       "      <th>restaurant</th>\n",
       "      <th>bar</th>\n",
       "      <th>swimmingpools</th>\n",
       "      <th>internet</th>\n",
       "      <th>gym</th>\n",
       "      <th>missing_facilities</th>\n",
       "      <th>avg_rating</th>\n",
       "      <th>total_rating</th>\n",
       "      <th>rating_encode</th>\n",
       "      <th>location_Andeman</th>\n",
       "      <th>location_Hallerson</th>\n",
       "      <th>location_Machlessvile</th>\n",
       "      <th>location_Stokol</th>\n",
       "      <th>location_Uberlandia</th>\n",
       "      <th>location_Ubisville</th>\n",
       "      <th>location_Wanderland</th>\n",
       "      <th>location_Willsmian</th>\n",
       "    </tr>\n",
       "  </thead>\n",
       "  <tbody>\n",
       "    <tr>\n",
       "      <th>0</th>\n",
       "      <td>restaurantbarswimmingpools</td>\n",
       "      <td>7.8 Very GoodFrom 10 reviews</td>\n",
       "      <td>1</td>\n",
       "      <td>1</td>\n",
       "      <td>1</td>\n",
       "      <td>0</td>\n",
       "      <td>0</td>\n",
       "      <td>0</td>\n",
       "      <td>7.8</td>\n",
       "      <td>10.0</td>\n",
       "      <td>3</td>\n",
       "      <td>0</td>\n",
       "      <td>0</td>\n",
       "      <td>0</td>\n",
       "      <td>1</td>\n",
       "      <td>0</td>\n",
       "      <td>0</td>\n",
       "      <td>0</td>\n",
       "      <td>0</td>\n",
       "    </tr>\n",
       "    <tr>\n",
       "      <th>1</th>\n",
       "      <td>intrnetrestaurantgym</td>\n",
       "      <td>5.6 GoodFrom 4 reviews</td>\n",
       "      <td>1</td>\n",
       "      <td>0</td>\n",
       "      <td>0</td>\n",
       "      <td>1</td>\n",
       "      <td>1</td>\n",
       "      <td>0</td>\n",
       "      <td>5.6</td>\n",
       "      <td>4.0</td>\n",
       "      <td>2</td>\n",
       "      <td>0</td>\n",
       "      <td>0</td>\n",
       "      <td>1</td>\n",
       "      <td>0</td>\n",
       "      <td>0</td>\n",
       "      <td>0</td>\n",
       "      <td>0</td>\n",
       "      <td>0</td>\n",
       "    </tr>\n",
       "    <tr>\n",
       "      <th>2</th>\n",
       "      <td>restaurantgympoolbar</td>\n",
       "      <td>7.2 Very GoodFrom 38 reviews</td>\n",
       "      <td>1</td>\n",
       "      <td>1</td>\n",
       "      <td>0</td>\n",
       "      <td>0</td>\n",
       "      <td>1</td>\n",
       "      <td>0</td>\n",
       "      <td>7.2</td>\n",
       "      <td>38.0</td>\n",
       "      <td>3</td>\n",
       "      <td>0</td>\n",
       "      <td>0</td>\n",
       "      <td>0</td>\n",
       "      <td>0</td>\n",
       "      <td>0</td>\n",
       "      <td>0</td>\n",
       "      <td>1</td>\n",
       "      <td>0</td>\n",
       "    </tr>\n",
       "    <tr>\n",
       "      <th>3</th>\n",
       "      <td>barrestaurant</td>\n",
       "      <td>7.3 Very GoodFrom 6 reviews</td>\n",
       "      <td>1</td>\n",
       "      <td>1</td>\n",
       "      <td>0</td>\n",
       "      <td>0</td>\n",
       "      <td>0</td>\n",
       "      <td>0</td>\n",
       "      <td>7.3</td>\n",
       "      <td>6.0</td>\n",
       "      <td>3</td>\n",
       "      <td>0</td>\n",
       "      <td>0</td>\n",
       "      <td>0</td>\n",
       "      <td>0</td>\n",
       "      <td>1</td>\n",
       "      <td>0</td>\n",
       "      <td>0</td>\n",
       "      <td>0</td>\n",
       "    </tr>\n",
       "    <tr>\n",
       "      <th>4</th>\n",
       "      <td>internetrestaurant</td>\n",
       "      <td>7.2 Very GoodFrom 30 reviews</td>\n",
       "      <td>1</td>\n",
       "      <td>0</td>\n",
       "      <td>0</td>\n",
       "      <td>1</td>\n",
       "      <td>0</td>\n",
       "      <td>0</td>\n",
       "      <td>7.2</td>\n",
       "      <td>30.0</td>\n",
       "      <td>3</td>\n",
       "      <td>0</td>\n",
       "      <td>0</td>\n",
       "      <td>0</td>\n",
       "      <td>1</td>\n",
       "      <td>0</td>\n",
       "      <td>0</td>\n",
       "      <td>0</td>\n",
       "      <td>0</td>\n",
       "    </tr>\n",
       "  </tbody>\n",
       "</table>\n",
       "</div>"
      ],
      "text/plain": [
       "                   facilities                        rating  restaurant  bar  \\\n",
       "0  restaurantbarswimmingpools  7.8 Very GoodFrom 10 reviews           1    1   \n",
       "1        intrnetrestaurantgym        5.6 GoodFrom 4 reviews           1    0   \n",
       "2        restaurantgympoolbar  7.2 Very GoodFrom 38 reviews           1    1   \n",
       "3               barrestaurant   7.3 Very GoodFrom 6 reviews           1    1   \n",
       "4          internetrestaurant  7.2 Very GoodFrom 30 reviews           1    0   \n",
       "\n",
       "   swimmingpools  internet  gym  missing_facilities  avg_rating  total_rating  \\\n",
       "0              1         0    0                   0         7.8          10.0   \n",
       "1              0         1    1                   0         5.6           4.0   \n",
       "2              0         0    1                   0         7.2          38.0   \n",
       "3              0         0    0                   0         7.3           6.0   \n",
       "4              0         1    0                   0         7.2          30.0   \n",
       "\n",
       "   rating_encode  location_Andeman  location_Hallerson  location_Machlessvile  \\\n",
       "0              3                 0                   0                      0   \n",
       "1              2                 0                   0                      1   \n",
       "2              3                 0                   0                      0   \n",
       "3              3                 0                   0                      0   \n",
       "4              3                 0                   0                      0   \n",
       "\n",
       "   location_Stokol  location_Uberlandia  location_Ubisville  \\\n",
       "0                1                    0                   0   \n",
       "1                0                    0                   0   \n",
       "2                0                    0                   0   \n",
       "3                0                    1                   0   \n",
       "4                1                    0                   0   \n",
       "\n",
       "   location_Wanderland  location_Willsmian  \n",
       "0                    0                   0  \n",
       "1                    0                   0  \n",
       "2                    1                   0  \n",
       "3                    0                   0  \n",
       "4                    0                   0  "
      ]
     },
     "execution_count": 26,
     "metadata": {},
     "output_type": "execute_result"
    }
   ],
   "source": [
    "combine = pd.get_dummies(combine, columns=['location'])\n",
    "combine.head()"
   ]
  },
  {
   "cell_type": "code",
   "execution_count": 27,
   "id": "b1553642",
   "metadata": {
    "scrolled": false
   },
   "outputs": [],
   "source": [
    "features = [2,3,4,5,6,7,8,10,11,12,13,14,15,16,17]\n",
    "X = combine.iloc[:train_features.shape[0], features]\n",
    "y = pd.read_csv('train_label.csv')\n",
    "y['Price'] = y['Price'].apply(lambda x: np.float32(''.join(x[:-9].split(','))))"
   ]
  },
  {
   "cell_type": "code",
   "execution_count": 28,
   "id": "b7e2dc4b",
   "metadata": {},
   "outputs": [],
   "source": [
    "from sklearn.model_selection import train_test_split\n",
    "\n",
    "X_train, X_test, y_train, y_test = train_test_split(X, y, test_size=.3, random_state=42)"
   ]
  },
  {
   "cell_type": "code",
   "execution_count": 29,
   "id": "f1078874",
   "metadata": {},
   "outputs": [
    {
     "name": "stdout",
     "output_type": "stream",
     "text": [
      "Total X_train: 2146\n",
      "Total X_test: 920\n",
      "Total y_train: 2146\n",
      "Total y_test: 920\n"
     ]
    }
   ],
   "source": [
    "print('Total X_train:', len(X_train))\n",
    "print('Total X_test:', len(X_test))\n",
    "print('Total y_train:', len(y_train))\n",
    "print('Total y_test:', len(y_test))"
   ]
  },
  {
   "cell_type": "code",
   "execution_count": 30,
   "id": "8e5f81f2",
   "metadata": {},
   "outputs": [],
   "source": [
    "from sklearn.preprocessing import MinMaxScaler\n",
    "\n",
    "scaled_feature = ['avg_rating']\n",
    "scaler = MinMaxScaler()\n",
    "X_train[scaled_feature] = scaler.fit_transform(X_train[scaled_feature])\n",
    "X_test[scaled_feature] = scaler.transform(X_test[scaled_feature])"
   ]
  },
  {
   "cell_type": "code",
   "execution_count": 31,
   "id": "9d84279a",
   "metadata": {
    "scrolled": false
   },
   "outputs": [],
   "source": [
    "from lazypredict.Supervised import LazyRegressor\n",
    "from sklearn.metrics import mean_absolute_error\n",
    "\n",
    "# reg = LazyRegressor(verbose=0, ignore_warnings=False, custom_metric=mean_absolute_error)\n",
    "# models, predictions = reg.fit(X_train.values, X_test.values, y_train.values, y_test.values)\n",
    "# models.sort_values('mean_absolute_error', ascending=True)"
   ]
  },
  {
   "cell_type": "code",
   "execution_count": 32,
   "id": "9fe6b3f3",
   "metadata": {},
   "outputs": [
    {
     "data": {
      "text/html": [
       "<style>#sk-container-id-1 {color: black;background-color: white;}#sk-container-id-1 pre{padding: 0;}#sk-container-id-1 div.sk-toggleable {background-color: white;}#sk-container-id-1 label.sk-toggleable__label {cursor: pointer;display: block;width: 100%;margin-bottom: 0;padding: 0.3em;box-sizing: border-box;text-align: center;}#sk-container-id-1 label.sk-toggleable__label-arrow:before {content: \"▸\";float: left;margin-right: 0.25em;color: #696969;}#sk-container-id-1 label.sk-toggleable__label-arrow:hover:before {color: black;}#sk-container-id-1 div.sk-estimator:hover label.sk-toggleable__label-arrow:before {color: black;}#sk-container-id-1 div.sk-toggleable__content {max-height: 0;max-width: 0;overflow: hidden;text-align: left;background-color: #f0f8ff;}#sk-container-id-1 div.sk-toggleable__content pre {margin: 0.2em;color: black;border-radius: 0.25em;background-color: #f0f8ff;}#sk-container-id-1 input.sk-toggleable__control:checked~div.sk-toggleable__content {max-height: 200px;max-width: 100%;overflow: auto;}#sk-container-id-1 input.sk-toggleable__control:checked~label.sk-toggleable__label-arrow:before {content: \"▾\";}#sk-container-id-1 div.sk-estimator input.sk-toggleable__control:checked~label.sk-toggleable__label {background-color: #d4ebff;}#sk-container-id-1 div.sk-label input.sk-toggleable__control:checked~label.sk-toggleable__label {background-color: #d4ebff;}#sk-container-id-1 input.sk-hidden--visually {border: 0;clip: rect(1px 1px 1px 1px);clip: rect(1px, 1px, 1px, 1px);height: 1px;margin: -1px;overflow: hidden;padding: 0;position: absolute;width: 1px;}#sk-container-id-1 div.sk-estimator {font-family: monospace;background-color: #f0f8ff;border: 1px dotted black;border-radius: 0.25em;box-sizing: border-box;margin-bottom: 0.5em;}#sk-container-id-1 div.sk-estimator:hover {background-color: #d4ebff;}#sk-container-id-1 div.sk-parallel-item::after {content: \"\";width: 100%;border-bottom: 1px solid gray;flex-grow: 1;}#sk-container-id-1 div.sk-label:hover label.sk-toggleable__label {background-color: #d4ebff;}#sk-container-id-1 div.sk-serial::before {content: \"\";position: absolute;border-left: 1px solid gray;box-sizing: border-box;top: 0;bottom: 0;left: 50%;z-index: 0;}#sk-container-id-1 div.sk-serial {display: flex;flex-direction: column;align-items: center;background-color: white;padding-right: 0.2em;padding-left: 0.2em;position: relative;}#sk-container-id-1 div.sk-item {position: relative;z-index: 1;}#sk-container-id-1 div.sk-parallel {display: flex;align-items: stretch;justify-content: center;background-color: white;position: relative;}#sk-container-id-1 div.sk-item::before, #sk-container-id-1 div.sk-parallel-item::before {content: \"\";position: absolute;border-left: 1px solid gray;box-sizing: border-box;top: 0;bottom: 0;left: 50%;z-index: -1;}#sk-container-id-1 div.sk-parallel-item {display: flex;flex-direction: column;z-index: 1;position: relative;background-color: white;}#sk-container-id-1 div.sk-parallel-item:first-child::after {align-self: flex-end;width: 50%;}#sk-container-id-1 div.sk-parallel-item:last-child::after {align-self: flex-start;width: 50%;}#sk-container-id-1 div.sk-parallel-item:only-child::after {width: 0;}#sk-container-id-1 div.sk-dashed-wrapped {border: 1px dashed gray;margin: 0 0.4em 0.5em 0.4em;box-sizing: border-box;padding-bottom: 0.4em;background-color: white;}#sk-container-id-1 div.sk-label label {font-family: monospace;font-weight: bold;display: inline-block;line-height: 1.2em;}#sk-container-id-1 div.sk-label-container {text-align: center;}#sk-container-id-1 div.sk-container {/* jupyter's `normalize.less` sets `[hidden] { display: none; }` but bootstrap.min.css set `[hidden] { display: none !important; }` so we also need the `!important` here to be able to override the default hidden behavior on the sphinx rendered scikit-learn.org. See: https://github.com/scikit-learn/scikit-learn/issues/21755 */display: inline-block !important;position: relative;}#sk-container-id-1 div.sk-text-repr-fallback {display: none;}</style><div id=\"sk-container-id-1\" class=\"sk-top-container\"><div class=\"sk-text-repr-fallback\"><pre>DecisionTreeRegressor()</pre><b>In a Jupyter environment, please rerun this cell to show the HTML representation or trust the notebook. <br />On GitHub, the HTML representation is unable to render, please try loading this page with nbviewer.org.</b></div><div class=\"sk-container\" hidden><div class=\"sk-item\"><div class=\"sk-estimator sk-toggleable\"><input class=\"sk-toggleable__control sk-hidden--visually\" id=\"sk-estimator-id-1\" type=\"checkbox\" checked><label for=\"sk-estimator-id-1\" class=\"sk-toggleable__label sk-toggleable__label-arrow\">DecisionTreeRegressor</label><div class=\"sk-toggleable__content\"><pre>DecisionTreeRegressor()</pre></div></div></div></div></div>"
      ],
      "text/plain": [
       "DecisionTreeRegressor()"
      ]
     },
     "execution_count": 32,
     "metadata": {},
     "output_type": "execute_result"
    }
   ],
   "source": [
    "from sklearn.tree import DecisionTreeRegressor\n",
    "\n",
    "decision = DecisionTreeRegressor()\n",
    "decision.fit(X_train.values, y_train.values)"
   ]
  },
  {
   "cell_type": "code",
   "execution_count": 33,
   "id": "00b48f2f",
   "metadata": {},
   "outputs": [
    {
     "name": "stdout",
     "output_type": "stream",
     "text": [
      "MAE for DecisionTreeRegressor: 7567.005003298831\n",
      "Prediction mean for DecisionTreeRegressor: 18121.088386931286\n"
     ]
    }
   ],
   "source": [
    "yhat = decision.predict(X_test.values)\n",
    "mae = mean_absolute_error(y_test.values, yhat)\n",
    "print('MAE for DecisionTreeRegressor:', mae)\n",
    "print('Prediction mean for DecisionTreeRegressor:', np.mean(yhat))"
   ]
  },
  {
   "cell_type": "code",
   "execution_count": 34,
   "id": "5660e969",
   "metadata": {},
   "outputs": [],
   "source": [
    "def decision_fitness(params):\n",
    "    param = {\n",
    "        'max_depth': int(params[0][0]),\n",
    "        'min_samples_split': params[0][1],\n",
    "        'min_samples_leaf': params[0][2],\n",
    "        'max_features': params[0][3],\n",
    "        'max_leaf_nodes': int(params[0][4])\n",
    "    }\n",
    "    \n",
    "    decision = DecisionTreeRegressor(**param)\n",
    "    decision.fit(X_train.values, y_train.values)\n",
    "    yhat = decision.predict(X_test.values)\n",
    "    mae = mean_absolute_error(y_test.values, yhat)\n",
    "    return mae"
   ]
  },
  {
   "cell_type": "code",
   "execution_count": 35,
   "id": "af490965",
   "metadata": {},
   "outputs": [
    {
     "name": "stderr",
     "output_type": "stream",
     "text": [
      "2023-05-21 19:22:39,528 - pyswarms.single.global_best - INFO - Optimize for 100 iters with {'c1': 0.5, 'c2': 0.3, 'w': 0.9}\n",
      "pyswarms.single.global_best: 100%|██████████████████████████████████████████████████████████|100/100, best_cost=1.16e+4\n",
      "2023-05-21 19:22:39,779 - pyswarms.single.global_best - INFO - Optimization finished | best cost: 11629.646921471696, best pos: [29.83312391  0.89898391  6.3228121   0.70154322 66.01627437]\n"
     ]
    },
    {
     "name": "stdout",
     "output_type": "stream",
     "text": [
      "Best parameters: [29.83312391  0.89898391  6.3228121   0.70154322 66.01627437]\n",
      "Best cost: 11629.646921471696\n"
     ]
    }
   ],
   "source": [
    "from pyswarms.single.global_best import GlobalBestPSO\n",
    "\n",
    "bounds = (\n",
    "    np.array([0, 0.0001, 0.001, 0.0001, 2]),\n",
    "    np.array([100, 1, 10, 1, 100])\n",
    ")\n",
    "options = {'c1': 0.5, 'c2': 0.3, 'w': 0.9}\n",
    "\n",
    "optimizer = GlobalBestPSO(n_particles=3, dimensions=5, options=options, bounds=bounds)\n",
    "best_cost, best_params = optimizer.optimize(decision_fitness, iters=100)\n",
    "\n",
    "print('Best parameters:', best_params)\n",
    "print('Best cost:', best_cost)"
   ]
  },
  {
   "cell_type": "code",
   "execution_count": 36,
   "id": "adf0f69b",
   "metadata": {},
   "outputs": [
    {
     "data": {
      "text/html": [
       "<style>#sk-container-id-2 {color: black;background-color: white;}#sk-container-id-2 pre{padding: 0;}#sk-container-id-2 div.sk-toggleable {background-color: white;}#sk-container-id-2 label.sk-toggleable__label {cursor: pointer;display: block;width: 100%;margin-bottom: 0;padding: 0.3em;box-sizing: border-box;text-align: center;}#sk-container-id-2 label.sk-toggleable__label-arrow:before {content: \"▸\";float: left;margin-right: 0.25em;color: #696969;}#sk-container-id-2 label.sk-toggleable__label-arrow:hover:before {color: black;}#sk-container-id-2 div.sk-estimator:hover label.sk-toggleable__label-arrow:before {color: black;}#sk-container-id-2 div.sk-toggleable__content {max-height: 0;max-width: 0;overflow: hidden;text-align: left;background-color: #f0f8ff;}#sk-container-id-2 div.sk-toggleable__content pre {margin: 0.2em;color: black;border-radius: 0.25em;background-color: #f0f8ff;}#sk-container-id-2 input.sk-toggleable__control:checked~div.sk-toggleable__content {max-height: 200px;max-width: 100%;overflow: auto;}#sk-container-id-2 input.sk-toggleable__control:checked~label.sk-toggleable__label-arrow:before {content: \"▾\";}#sk-container-id-2 div.sk-estimator input.sk-toggleable__control:checked~label.sk-toggleable__label {background-color: #d4ebff;}#sk-container-id-2 div.sk-label input.sk-toggleable__control:checked~label.sk-toggleable__label {background-color: #d4ebff;}#sk-container-id-2 input.sk-hidden--visually {border: 0;clip: rect(1px 1px 1px 1px);clip: rect(1px, 1px, 1px, 1px);height: 1px;margin: -1px;overflow: hidden;padding: 0;position: absolute;width: 1px;}#sk-container-id-2 div.sk-estimator {font-family: monospace;background-color: #f0f8ff;border: 1px dotted black;border-radius: 0.25em;box-sizing: border-box;margin-bottom: 0.5em;}#sk-container-id-2 div.sk-estimator:hover {background-color: #d4ebff;}#sk-container-id-2 div.sk-parallel-item::after {content: \"\";width: 100%;border-bottom: 1px solid gray;flex-grow: 1;}#sk-container-id-2 div.sk-label:hover label.sk-toggleable__label {background-color: #d4ebff;}#sk-container-id-2 div.sk-serial::before {content: \"\";position: absolute;border-left: 1px solid gray;box-sizing: border-box;top: 0;bottom: 0;left: 50%;z-index: 0;}#sk-container-id-2 div.sk-serial {display: flex;flex-direction: column;align-items: center;background-color: white;padding-right: 0.2em;padding-left: 0.2em;position: relative;}#sk-container-id-2 div.sk-item {position: relative;z-index: 1;}#sk-container-id-2 div.sk-parallel {display: flex;align-items: stretch;justify-content: center;background-color: white;position: relative;}#sk-container-id-2 div.sk-item::before, #sk-container-id-2 div.sk-parallel-item::before {content: \"\";position: absolute;border-left: 1px solid gray;box-sizing: border-box;top: 0;bottom: 0;left: 50%;z-index: -1;}#sk-container-id-2 div.sk-parallel-item {display: flex;flex-direction: column;z-index: 1;position: relative;background-color: white;}#sk-container-id-2 div.sk-parallel-item:first-child::after {align-self: flex-end;width: 50%;}#sk-container-id-2 div.sk-parallel-item:last-child::after {align-self: flex-start;width: 50%;}#sk-container-id-2 div.sk-parallel-item:only-child::after {width: 0;}#sk-container-id-2 div.sk-dashed-wrapped {border: 1px dashed gray;margin: 0 0.4em 0.5em 0.4em;box-sizing: border-box;padding-bottom: 0.4em;background-color: white;}#sk-container-id-2 div.sk-label label {font-family: monospace;font-weight: bold;display: inline-block;line-height: 1.2em;}#sk-container-id-2 div.sk-label-container {text-align: center;}#sk-container-id-2 div.sk-container {/* jupyter's `normalize.less` sets `[hidden] { display: none; }` but bootstrap.min.css set `[hidden] { display: none !important; }` so we also need the `!important` here to be able to override the default hidden behavior on the sphinx rendered scikit-learn.org. See: https://github.com/scikit-learn/scikit-learn/issues/21755 */display: inline-block !important;position: relative;}#sk-container-id-2 div.sk-text-repr-fallback {display: none;}</style><div id=\"sk-container-id-2\" class=\"sk-top-container\"><div class=\"sk-text-repr-fallback\"><pre>DecisionTreeRegressor(max_depth=29, max_features=0.7015432203925559,\n",
       "                      max_leaf_nodes=66, min_samples_leaf=6.322812096051358,\n",
       "                      min_samples_split=0.8989839105718835)</pre><b>In a Jupyter environment, please rerun this cell to show the HTML representation or trust the notebook. <br />On GitHub, the HTML representation is unable to render, please try loading this page with nbviewer.org.</b></div><div class=\"sk-container\" hidden><div class=\"sk-item\"><div class=\"sk-estimator sk-toggleable\"><input class=\"sk-toggleable__control sk-hidden--visually\" id=\"sk-estimator-id-2\" type=\"checkbox\" checked><label for=\"sk-estimator-id-2\" class=\"sk-toggleable__label sk-toggleable__label-arrow\">DecisionTreeRegressor</label><div class=\"sk-toggleable__content\"><pre>DecisionTreeRegressor(max_depth=29, max_features=0.7015432203925559,\n",
       "                      max_leaf_nodes=66, min_samples_leaf=6.322812096051358,\n",
       "                      min_samples_split=0.8989839105718835)</pre></div></div></div></div></div>"
      ],
      "text/plain": [
       "DecisionTreeRegressor(max_depth=29, max_features=0.7015432203925559,\n",
       "                      max_leaf_nodes=66, min_samples_leaf=6.322812096051358,\n",
       "                      min_samples_split=0.8989839105718835)"
      ]
     },
     "execution_count": 36,
     "metadata": {},
     "output_type": "execute_result"
    }
   ],
   "source": [
    "max_depth, min_samples_split, min_samples_leaf, max_features, max_leaf_nodes = best_params\n",
    "decision = DecisionTreeRegressor(\n",
    "    max_depth=int(max_depth),\n",
    "    min_samples_split=min_samples_split,\n",
    "    min_samples_leaf=min_samples_leaf,\n",
    "    max_features=max_features,\n",
    "    max_leaf_nodes=int(max_leaf_nodes)\n",
    ")\n",
    "decision.fit(X_train.values, y_train.values)"
   ]
  },
  {
   "cell_type": "code",
   "execution_count": 37,
   "id": "33c6617c",
   "metadata": {},
   "outputs": [
    {
     "name": "stdout",
     "output_type": "stream",
     "text": [
      "MAE for DecisionTreeRegressor + PSO: 11629.646921471696\n",
      "Prediction mean for DecisionTreeRegressor + PSO: 18913.480428704566\n"
     ]
    }
   ],
   "source": [
    "yhat = decision.predict(X_test.values)\n",
    "mae = mean_absolute_error(y_test.values, yhat)\n",
    "print('MAE for DecisionTreeRegressor + PSO:', mae)\n",
    "print('Prediction mean for DecisionTreeRegressor + PSO:', np.mean(yhat))"
   ]
  },
  {
   "cell_type": "code",
   "execution_count": 38,
   "id": "76af6738",
   "metadata": {},
   "outputs": [
    {
     "ename": "ValueError",
     "evalue": "Columns must be same length as key",
     "output_type": "error",
     "traceback": [
      "\u001b[1;31m---------------------------------------------------------------------------\u001b[0m",
      "\u001b[1;31mValueError\u001b[0m                                Traceback (most recent call last)",
      "Input \u001b[1;32mIn [38]\u001b[0m, in \u001b[0;36m<cell line: 2>\u001b[1;34m()\u001b[0m\n\u001b[0;32m      1\u001b[0m new_test \u001b[38;5;241m=\u001b[39m combine\u001b[38;5;241m.\u001b[39miloc[train_features\u001b[38;5;241m.\u001b[39mshape[\u001b[38;5;241m0\u001b[39m]:, features]\n\u001b[1;32m----> 2\u001b[0m new_test[[\u001b[38;5;124m'\u001b[39m\u001b[38;5;124mavg_rating\u001b[39m\u001b[38;5;124m'\u001b[39m, \u001b[38;5;124m'\u001b[39m\u001b[38;5;124mtotal_rating\u001b[39m\u001b[38;5;124m'\u001b[39m]] \u001b[38;5;241m=\u001b[39m scaler\u001b[38;5;241m.\u001b[39mtransform(new_test[[\u001b[38;5;124m'\u001b[39m\u001b[38;5;124mavg_rating\u001b[39m\u001b[38;5;124m'\u001b[39m]])\n\u001b[0;32m      3\u001b[0m yhat \u001b[38;5;241m=\u001b[39m decision\u001b[38;5;241m.\u001b[39mpredict(new_test\u001b[38;5;241m.\u001b[39mvalues)\n\u001b[0;32m      4\u001b[0m submission_df \u001b[38;5;241m=\u001b[39m pd\u001b[38;5;241m.\u001b[39mDataFrame({\n\u001b[0;32m      5\u001b[0m     \u001b[38;5;124m'\u001b[39m\u001b[38;5;124mID\u001b[39m\u001b[38;5;124m'\u001b[39m: test_features[\u001b[38;5;124m'\u001b[39m\u001b[38;5;124mID\u001b[39m\u001b[38;5;124m'\u001b[39m]\u001b[38;5;241m.\u001b[39mvalues,\n\u001b[0;32m      6\u001b[0m     \u001b[38;5;124m'\u001b[39m\u001b[38;5;124mPrice\u001b[39m\u001b[38;5;124m'\u001b[39m: yhat\n\u001b[0;32m      7\u001b[0m })\n",
      "File \u001b[1;32m~\\anaconda3\\lib\\site-packages\\pandas\\core\\frame.py:3643\u001b[0m, in \u001b[0;36mDataFrame.__setitem__\u001b[1;34m(self, key, value)\u001b[0m\n\u001b[0;32m   3641\u001b[0m     \u001b[38;5;28mself\u001b[39m\u001b[38;5;241m.\u001b[39m_setitem_frame(key, value)\n\u001b[0;32m   3642\u001b[0m \u001b[38;5;28;01melif\u001b[39;00m \u001b[38;5;28misinstance\u001b[39m(key, (Series, np\u001b[38;5;241m.\u001b[39mndarray, \u001b[38;5;28mlist\u001b[39m, Index)):\n\u001b[1;32m-> 3643\u001b[0m     \u001b[38;5;28;43mself\u001b[39;49m\u001b[38;5;241;43m.\u001b[39;49m\u001b[43m_setitem_array\u001b[49m\u001b[43m(\u001b[49m\u001b[43mkey\u001b[49m\u001b[43m,\u001b[49m\u001b[43m \u001b[49m\u001b[43mvalue\u001b[49m\u001b[43m)\u001b[49m\n\u001b[0;32m   3644\u001b[0m \u001b[38;5;28;01melif\u001b[39;00m \u001b[38;5;28misinstance\u001b[39m(value, DataFrame):\n\u001b[0;32m   3645\u001b[0m     \u001b[38;5;28mself\u001b[39m\u001b[38;5;241m.\u001b[39m_set_item_frame_value(key, value)\n",
      "File \u001b[1;32m~\\anaconda3\\lib\\site-packages\\pandas\\core\\frame.py:3694\u001b[0m, in \u001b[0;36mDataFrame._setitem_array\u001b[1;34m(self, key, value)\u001b[0m\n\u001b[0;32m   3691\u001b[0m         \u001b[38;5;28mself\u001b[39m[col] \u001b[38;5;241m=\u001b[39m value\n\u001b[0;32m   3693\u001b[0m \u001b[38;5;28;01melif\u001b[39;00m \u001b[38;5;28misinstance\u001b[39m(value, np\u001b[38;5;241m.\u001b[39mndarray) \u001b[38;5;129;01mand\u001b[39;00m value\u001b[38;5;241m.\u001b[39mndim \u001b[38;5;241m==\u001b[39m \u001b[38;5;241m2\u001b[39m:\n\u001b[1;32m-> 3694\u001b[0m     \u001b[38;5;28;43mself\u001b[39;49m\u001b[38;5;241;43m.\u001b[39;49m\u001b[43m_iset_not_inplace\u001b[49m\u001b[43m(\u001b[49m\u001b[43mkey\u001b[49m\u001b[43m,\u001b[49m\u001b[43m \u001b[49m\u001b[43mvalue\u001b[49m\u001b[43m)\u001b[49m\n\u001b[0;32m   3696\u001b[0m \u001b[38;5;28;01melif\u001b[39;00m np\u001b[38;5;241m.\u001b[39mndim(value) \u001b[38;5;241m>\u001b[39m \u001b[38;5;241m1\u001b[39m:\n\u001b[0;32m   3697\u001b[0m     \u001b[38;5;66;03m# list of lists\u001b[39;00m\n\u001b[0;32m   3698\u001b[0m     value \u001b[38;5;241m=\u001b[39m DataFrame(value)\u001b[38;5;241m.\u001b[39mvalues\n",
      "File \u001b[1;32m~\\anaconda3\\lib\\site-packages\\pandas\\core\\frame.py:3721\u001b[0m, in \u001b[0;36mDataFrame._iset_not_inplace\u001b[1;34m(self, key, value)\u001b[0m\n\u001b[0;32m   3719\u001b[0m \u001b[38;5;28;01mif\u001b[39;00m \u001b[38;5;28mself\u001b[39m\u001b[38;5;241m.\u001b[39mcolumns\u001b[38;5;241m.\u001b[39mis_unique:\n\u001b[0;32m   3720\u001b[0m     \u001b[38;5;28;01mif\u001b[39;00m np\u001b[38;5;241m.\u001b[39mshape(value)[\u001b[38;5;241m-\u001b[39m\u001b[38;5;241m1\u001b[39m] \u001b[38;5;241m!=\u001b[39m \u001b[38;5;28mlen\u001b[39m(key):\n\u001b[1;32m-> 3721\u001b[0m         \u001b[38;5;28;01mraise\u001b[39;00m \u001b[38;5;167;01mValueError\u001b[39;00m(\u001b[38;5;124m\"\u001b[39m\u001b[38;5;124mColumns must be same length as key\u001b[39m\u001b[38;5;124m\"\u001b[39m)\n\u001b[0;32m   3723\u001b[0m     \u001b[38;5;28;01mfor\u001b[39;00m i, col \u001b[38;5;129;01min\u001b[39;00m \u001b[38;5;28menumerate\u001b[39m(key):\n\u001b[0;32m   3724\u001b[0m         \u001b[38;5;28mself\u001b[39m[col] \u001b[38;5;241m=\u001b[39m igetitem(value, i)\n",
      "\u001b[1;31mValueError\u001b[0m: Columns must be same length as key"
     ]
    }
   ],
   "source": [
    "new_test = combine.iloc[train_features.shape[0]:, features]\n",
    "new_test[['avg_rating']] = scaler.transform(new_test[['avg_rating']])\n",
    "yhat = decision.predict(new_test.values)\n",
    "submission_df = pd.DataFrame({\n",
    "    'ID': test_features['ID'].values,\n",
    "    'Price': yhat\n",
    "})\n",
    "\n",
    "# submission_df.to_csv('submission.csv', index=False)\n",
    "print('Prediction mean:', np.mean(yhat))\n",
    "submission_df.head()"
   ]
  }
 ],
 "metadata": {
  "kernelspec": {
   "display_name": "Python 3 (ipykernel)",
   "language": "python",
   "name": "python3"
  },
  "language_info": {
   "codemirror_mode": {
    "name": "ipython",
    "version": 3
   },
   "file_extension": ".py",
   "mimetype": "text/x-python",
   "name": "python",
   "nbconvert_exporter": "python",
   "pygments_lexer": "ipython3",
   "version": "3.9.12"
  }
 },
 "nbformat": 4,
 "nbformat_minor": 5
}
